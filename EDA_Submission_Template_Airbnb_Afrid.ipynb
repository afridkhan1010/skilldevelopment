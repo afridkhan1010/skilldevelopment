{
  "nbformat": 4,
  "nbformat_minor": 0,
  "metadata": {
    "colab": {
      "private_outputs": true,
      "provenance": [],
      "collapsed_sections": [
        "mDgbUHAGgjLW",
        "Ag9LCva-p1cl",
        "E6MkPsBcp1cl",
        "2cELzS2fp1cl",
        "3MPXvC8up1cl",
        "NC_X3p0fY2L0",
        "UV0SzAkaZNRQ",
        "YPEH6qLeZNRQ",
        "q29F0dvdveiT",
        "EXh0U9oCveiU",
        "22aHeOlLveiV",
        "gIfDvo9L0UH2"
      ],
      "cell_execution_strategy": "setup",
      "include_colab_link": true
    },
    "kernelspec": {
      "name": "python3",
      "display_name": "Python 3"
    },
    "language_info": {
      "name": "python"
    }
  },
  "cells": [
    {
      "cell_type": "markdown",
      "metadata": {
        "id": "view-in-github",
        "colab_type": "text"
      },
      "source": [
        "<a href=\"https://colab.research.google.com/github/afridkhan1010/skilldevelopment/blob/main/EDA_Submission_Template_Airbnb_Afrid.ipynb\" target=\"_parent\"><img src=\"https://colab.research.google.com/assets/colab-badge.svg\" alt=\"Open In Colab\"/></a>"
      ]
    },
    {
      "cell_type": "markdown",
      "source": [
        "# **Project Name**    - Airbnb Bookings Analysis\n",
        "\n"
      ],
      "metadata": {
        "id": "vncDsAP0Gaoa"
      }
    },
    {
      "cell_type": "markdown",
      "source": [
        "##### **Project Type**    - EDA\n",
        "##### **Contribution**    - Individual\n",
        "##### **Team Member 1 -**   Afrid khan\n",
        "##### **Team Member 2 -**\n",
        "##### **Team Member 3 -**\n",
        "##### **Team Member 4 -**"
      ],
      "metadata": {
        "id": "beRrZCGUAJYm"
      }
    },
    {
      "cell_type": "markdown",
      "source": [
        "# **Project Summary -**"
      ],
      "metadata": {
        "id": "FJNUwmbgGyua"
      }
    },
    {
      "cell_type": "markdown",
      "source": [
        "**project summary: Airbnb Bookings Analysis**\n",
        "\n",
        "**Introduction:**\n",
        "Airbnb has provided many travellers a great, easy and convenient place to stay during their travels. Similarly, it has also given an opportunity for many to earn extra revenue by listing their properties for residents to stay. However, with so many listings available with varying prices, how can an aspiring host know what type of property to invest in if his main aim is to list it in Airbnb and earn rental revenue? Additionally, if a traveller wants to find the cheapest listing available but with certain features he prefers like 'free parking' etc, how does he know what aspects to look into to find a suitable listing? There are many factors which influence the price of a listing. Which is why we aim to find the most important factors that affect the price and more importantly the features that is common among the most expensive listings. This will allow an aspiring Airbnb host to ensure that his listing is equipped with those important features such that he will be able to charge a higher price without losing customers. Moreover, a traveller will also know the factors to look into to get the lowest price possible while having certain features he prefers.\n",
        "The Airbnb Bookings Analysis project aims to provide a comprehensive and data-driven understanding of the booking trends and patterns within the Airbnb platform. By analyzing historical data on bookings, we seek to gain insights into factors influencing booking behavior, identify popular destinations, and uncover potential opportunities for hosts and guests alike.\n",
        "\n",
        "**Objectives:**\n",
        "\n",
        "**Booking Trends Identification:**\n",
        "Analyze historical booking data to identify seasonal, monthly, and weekly booking trends. Determine peak booking periods and factors contributing to fluctuations in demand.\n",
        "\n",
        "**Geographical Analysis:**\n",
        "Examine the geographical distribution of bookings to identify the most popular destinations and their corresponding booking patterns. Identify potential emerging hotspots.\n",
        "\n",
        "**Price Dynamics:**\n",
        "Airbnb has given an opportunity for many to earn extra revenue by listing their properties for residents to stay. However, with so many listings available with varying prices, how can an aspiring host know what type of property to invest in if his main aim is to list it in Airbnb and earn rental revenue.\n",
        "Investigate pricing strategies and their impact on booking rates. Analyze the relationship between price, location, and booking frequency.\n",
        "\n",
        "**Guest Preferences:**\n",
        "Understand guest preferences by examining their review data. Identify key amenities, features, or host qualities that significantly influence guest satisfaction and booking decisions.\n",
        "\n",
        "**Host Characteristics:**\n",
        "Investigate the attributes of successful hosts. Determine factors that contribute to high occupancy rates and positive guest reviews.\n",
        "\n"
      ],
      "metadata": {
        "id": "F6v_1wHtG2nS"
      }
    },
    {
      "cell_type": "markdown",
      "source": [
        "# **GitHub Link -**"
      ],
      "metadata": {
        "id": "w6K7xa23Elo4"
      }
    },
    {
      "cell_type": "markdown",
      "source": [
        "https://github.com/afridkhan1010/skilldevelopment/blob/main/EDA_Submission_Template_Airbnb_Afrid.ipynb"
      ],
      "metadata": {
        "id": "h1o69JH3Eqqn"
      }
    },
    {
      "cell_type": "markdown",
      "source": [
        "# **Problem Statement**\n"
      ],
      "metadata": {
        "id": "yQaldy8SH6Dl"
      }
    },
    {
      "cell_type": "markdown",
      "source": [
        "\n",
        "\n"
      ],
      "metadata": {
        "id": "DpeJGUA3kjGy"
      }
    },
    {
      "cell_type": "markdown",
      "source": [
        "#### **Define Your Business Objective?**"
      ],
      "metadata": {
        "id": "PH-0ReGfmX4f"
      }
    },
    {
      "cell_type": "markdown",
      "source": [
        "**Bussiness Objective**\n",
        "\n",
        "\n",
        "1.   Which locations are the most popular destinations and how many listings do they have?\n",
        "2.   How much percantage of listings are located over newyork region?\n",
        "3.   What are the seasonal, monthly, and weekly booking trends?\n",
        "4.   What are the features/facilities/ammenities of a property that affect its price?\n",
        "5.   Does reviews of the listing co-related with the price?\n",
        "6.   Where are the listings being located?"
      ],
      "metadata": {
        "id": "PhDvGCAqmjP1"
      }
    },
    {
      "cell_type": "markdown",
      "source": [
        "# **General Guidelines** : -  "
      ],
      "metadata": {
        "id": "mDgbUHAGgjLW"
      }
    },
    {
      "cell_type": "markdown",
      "source": [
        "1.   Well-structured, formatted, and commented code is required.\n",
        "2.   Exception Handling, Production Grade Code & Deployment Ready Code will be a plus. Those students will be awarded some additional credits.\n",
        "     \n",
        "     The additional credits will have advantages over other students during Star Student selection.\n",
        "       \n",
        "             [ Note: - Deployment Ready Code is defined as, the whole .ipynb notebook should be executable in one go\n",
        "                       without a single error logged. ]\n",
        "\n",
        "3.   Each and every logic should have proper comments.\n",
        "4. You may add as many number of charts you want. Make Sure for each and every chart the following format should be answered.\n",
        "        \n",
        "\n",
        "```\n",
        "# Chart visualization code\n",
        "```\n",
        "            \n",
        "\n",
        "*   Why did you pick the specific chart?\n",
        "*   What is/are the insight(s) found from the chart?\n",
        "* Will the gained insights help creating a positive business impact?\n",
        "Are there any insights that lead to negative growth? Justify with specific reason.\n",
        "\n",
        "5. You have to create at least 20 logical & meaningful charts having important insights.\n",
        "\n",
        "\n",
        "[ Hints : - Do the Vizualization in  a structured way while following \"UBM\" Rule.\n",
        "\n",
        "U - Univariate Analysis,\n",
        "\n",
        "B - Bivariate Analysis (Numerical - Categorical, Numerical - Numerical, Categorical - Categorical)\n",
        "\n",
        "M - Multivariate Analysis\n",
        " ]\n",
        "\n",
        "\n",
        "\n"
      ],
      "metadata": {
        "id": "ZrxVaUj-hHfC"
      }
    },
    {
      "cell_type": "markdown",
      "source": [
        "# ***Let's Begin !***"
      ],
      "metadata": {
        "id": "O_i_v8NEhb9l"
      }
    },
    {
      "cell_type": "markdown",
      "source": [
        "## ***1. Know Your Data***"
      ],
      "metadata": {
        "id": "HhfV-JJviCcP"
      }
    },
    {
      "cell_type": "markdown",
      "source": [
        "### Import Libraries"
      ],
      "metadata": {
        "id": "Y3lxredqlCYt"
      }
    },
    {
      "cell_type": "code",
      "source": [
        "#importing packages/libraries required for the  future analysis and data pre-processing\n",
        "import numpy as np\n",
        "import pandas as pd\n",
        "import matplotlib.pyplot as plt\n",
        "%matplotlib inline\n",
        "import seaborn as sns\n"
      ],
      "metadata": {
        "id": "M8Vqi-pPk-HR"
      },
      "execution_count": null,
      "outputs": []
    },
    {
      "cell_type": "markdown",
      "source": [
        "### Dataset Loading"
      ],
      "metadata": {
        "id": "3RnN4peoiCZX"
      }
    },
    {
      "cell_type": "code",
      "source": [
        "# Load Dataset"
      ],
      "metadata": {
        "id": "4CkvbW_SlZ_R"
      },
      "execution_count": null,
      "outputs": []
    },
    {
      "cell_type": "code",
      "source": [
        "#MOunting the drive to read the data and save our required files\n",
        "from google.colab import drive\n",
        "drive.mount('/content/drive')"
      ],
      "metadata": {
        "id": "sYJkmL9JuQB0"
      },
      "execution_count": null,
      "outputs": []
    },
    {
      "cell_type": "code",
      "source": [
        "#reading the data from the dataset saved at the google drive using pandas library\n",
        "airbnb_df=pd.read_csv('/content/drive/MyDrive/Colab Notebooks/Datasets/Airbnb NYC 2019.csv')\n"
      ],
      "metadata": {
        "id": "j9jhYiTnuo1A"
      },
      "execution_count": null,
      "outputs": []
    },
    {
      "cell_type": "markdown",
      "source": [
        "### Dataset First View"
      ],
      "metadata": {
        "id": "x71ZqKXriCWQ"
      }
    },
    {
      "cell_type": "code",
      "source": [
        "# Dataset First Look\n",
        "airbnb_df.head()"
      ],
      "metadata": {
        "id": "LWNFOSvLl09H"
      },
      "execution_count": null,
      "outputs": []
    },
    {
      "cell_type": "code",
      "source": [
        "airbnb_df.tail()"
      ],
      "metadata": {
        "id": "IH4bCeM1v86O"
      },
      "execution_count": null,
      "outputs": []
    },
    {
      "cell_type": "markdown",
      "source": [
        "### Dataset Rows & Columns count"
      ],
      "metadata": {
        "id": "7hBIi_osiCS2"
      }
    },
    {
      "cell_type": "code",
      "source": [
        "#Number of rows and columns of Dataset\n",
        "shape=airbnb_df.shape\n",
        "print('no of rows: ',shape[0])\n",
        "print('no of columns: ',shape[1])"
      ],
      "metadata": {
        "id": "Kllu7SJgmLij"
      },
      "execution_count": null,
      "outputs": []
    },
    {
      "cell_type": "markdown",
      "source": [
        "### Dataset Information"
      ],
      "metadata": {
        "id": "JlHwYmJAmNHm"
      }
    },
    {
      "cell_type": "code",
      "source": [
        "# Dataset Info\n",
        "airbnb_df.info()"
      ],
      "metadata": {
        "id": "e9hRXRi6meOf"
      },
      "execution_count": null,
      "outputs": []
    },
    {
      "cell_type": "markdown",
      "source": [
        "#### Duplicate Values"
      ],
      "metadata": {
        "id": "35m5QtbWiB9F"
      }
    },
    {
      "cell_type": "code",
      "source": [
        "# Dataset Duplicate Value Count\n",
        "airbnb_df.duplicated().sum()"
      ],
      "metadata": {
        "id": "1sLdpKYkmox0"
      },
      "execution_count": null,
      "outputs": []
    },
    {
      "cell_type": "markdown",
      "source": [
        "#### Missing Values/Null Values"
      ],
      "metadata": {
        "id": "PoPl-ycgm1ru"
      }
    },
    {
      "cell_type": "code",
      "source": [
        "# Missing Values/Null Values Count\n",
        "for i in airbnb_df.columns.tolist():\n",
        "  if airbnb_df[i].isnull().sum()>0:\n",
        "    print(f'total number of missing values in {i} column is {airbnb_df[i].isnull().sum()}')"
      ],
      "metadata": {
        "id": "GgHWkxvamxVg"
      },
      "execution_count": null,
      "outputs": []
    },
    {
      "cell_type": "code",
      "source": [
        "# Visualizing the missing values\n",
        "airbnb_df.isnull().sum()"
      ],
      "metadata": {
        "id": "3q5wnI3om9sJ"
      },
      "execution_count": null,
      "outputs": []
    },
    {
      "cell_type": "markdown",
      "source": [
        "### What did you know about your dataset?"
      ],
      "metadata": {
        "id": "H0kj-8xxnORC"
      }
    },
    {
      "cell_type": "markdown",
      "source": [
        "The Dataset provides valuable insights into the available data, including the nature of information, the number of rows and columns, and the presence of null values.\n",
        "\n",
        "During our examination, we noticed that many columns contain null values. The columns 'last_review' and 'reviews_per_month' have the highest number of nulls, while 'name' and 'host_name' have the fewest.\n",
        "\n",
        "The fact that 'last_review' and 'reviews_per_month' have NaN values in the same rows suggests a correlation between these two columns. As 'last_review' seems less crucial when 'reviews_per_month' is available, we can drop it and replace NaN values in 'reviews_per_month' with 0.\n",
        "\n",
        "Although 'name' and 'host_name' have a small number of NaN values, we can cautiously replace them with 'unknown' in both columns as part of the data cleaning process.\n",
        "\n",
        "It is essential to handle null values carefully during data cleaning, as replacing them can impact the dataset's accuracy. Therefore, we should address null values only where necessary to avoid misinterpretation of the dataset."
      ],
      "metadata": {
        "id": "gfoNAAC-nUe_"
      }
    },
    {
      "cell_type": "markdown",
      "source": [
        "## ***2. Understanding Your Variables***"
      ],
      "metadata": {
        "id": "nA9Y7ga8ng1Z"
      }
    },
    {
      "cell_type": "code",
      "source": [
        "# Dataset Columns\n",
        "airbnb_df.columns  #gives us the list of column names"
      ],
      "metadata": {
        "id": "j7xfkqrt5Ag5"
      },
      "execution_count": null,
      "outputs": []
    },
    {
      "cell_type": "code",
      "source": [
        "# Dataset Describe\n",
        "airbnb_df.describe()  #examine the dataset by describe method"
      ],
      "metadata": {
        "id": "DnOaZdaE5Q5t"
      },
      "execution_count": null,
      "outputs": []
    },
    {
      "cell_type": "markdown",
      "source": [
        "### Variables Description"
      ],
      "metadata": {
        "id": "PBTbrJXOngz2"
      }
    },
    {
      "cell_type": "markdown",
      "source": [
        "* id: Unique listing ID\n",
        "* name: Name of the listing\n",
        "* host_id: Unique host ID\n",
        "* host_name: Name of the host\n",
        "* neighbourhood_group: Location\n",
        "* neighbourhood: Area\n",
        "* latitude: Latitude coordinates\n",
        "* longitude: Longitude coordinates\n",
        "* room_type: Listing type\n",
        "* price: Price in dollars\n",
        "* minimum_nights: Amount of nights minimum\n",
        "* number_of_reviews: number of reviews\n",
        "* last_review: latest review\n",
        "* reviews_per_month: number of reviews per month\n",
        "* calculated_host_listings_count: amount of listing per host\n",
        "* availability_365: number of days when listing is available for booking"
      ],
      "metadata": {
        "id": "aJV4KIxSnxay"
      }
    },
    {
      "cell_type": "markdown",
      "source": [
        "### Check Unique Values for each variable."
      ],
      "metadata": {
        "id": "u3PMJOP6ngxN"
      }
    },
    {
      "cell_type": "code",
      "source": [
        "# Check Unique Values for each variable.\n",
        "for i in airbnb_df.columns.tolist():\n",
        "  print(f'Number of unique values in {i} are : {airbnb_df[i].nunique()}')\n",
        ""
      ],
      "metadata": {
        "id": "zms12Yq5n-jE"
      },
      "execution_count": null,
      "outputs": []
    },
    {
      "cell_type": "markdown",
      "source": [
        "## 3. ***Data Wrangling***"
      ],
      "metadata": {
        "id": "dauF4eBmngu3"
      }
    },
    {
      "cell_type": "markdown",
      "source": [
        "### Data Wrangling Code"
      ],
      "metadata": {
        "id": "bKJF3rekwFvQ"
      }
    },
    {
      "cell_type": "code",
      "source": [
        "# Write your code to make your dataset analysis ready.\n",
        "airbnb_df.drop_duplicates(inplace=True)                                              # This removes duplicate rows if any, which in turn eliminates data duplicacy.\n",
        "\n",
        "airbnb_df.fillna({'reviews_per_month':0}, inplace=True)                              #filling the missing values to the 'reviews_per_month' column with  '0' since we cannot fill the reviews with any of aggregation methods\n",
        "\n",
        "airbnb_df[\"name\"].fillna(\"unknown\", inplace=True)                                    # We will replace NaN with \"unknown\"\n",
        "\n",
        "airbnb_df[\"host_name\"].fillna(\"unknown\", inplace=True)                               # We will replace NaN with \"unknown\"\n",
        "\n",
        "airbnb_df.drop(['id','last_review'],axis=1,inplace=True)                            ##dropping columns that are not significant or could be unethical to use for our future data exploration and predictions\n",
        "                                                                                    #dropping the columns and making changes to the original dataset\n",
        "\n",
        "airbnb_df = airbnb_df.loc[airbnb_df['price'] >0 ]                                   # Exclude property with listed price of 0\n",
        "airbnb_df.isnull().sum()"
      ],
      "metadata": {
        "id": "wk-9a2fpoLcV"
      },
      "execution_count": null,
      "outputs": []
    },
    {
      "cell_type": "code",
      "source": [
        "#examine the dataset by describe method to only numerical columns\n",
        "(airbnb_df[['price', 'minimum_nights', 'number_of_reviews', 'reviews_per_month',\n",
        "       'calculated_host_listings_count', 'availability_365']]\n",
        " .describe())"
      ],
      "metadata": {
        "id": "Q331CQE_bCgw"
      },
      "execution_count": null,
      "outputs": []
    },
    {
      "cell_type": "markdown",
      "source": [
        "### What all manipulations have you done and insights you found?"
      ],
      "metadata": {
        "id": "MSa1f5Uengrz"
      }
    },
    {
      "cell_type": "markdown",
      "source": [
        "* 1. We have done data wrangling on the previous dataset provided which had some missing values.\n",
        "* 2. As we initiated drop_duplicates() method but didn't find any duplicate values in the dataset.\n",
        "* 3. Then we performed isnull() to find null values and concluded that we have 4 columns with some null values.\n",
        "For name and host_name column replaced NaN with \"unknown\" as null values are very less in number. We could have dropped the columns but it would then remove some meaningful data as well.\n",
        "* 4. We then replaced the null values in reviews_per_month column with 0 as it didn't impact the meaning of dataset.\n",
        "* 5. Since last_review has numerous null values and the info contained in it is almost there in reviews_per_momth column, so we dropped it off.\n",
        "* 6. Hence we can say we got a processed and clean dataset as shown above."
      ],
      "metadata": {
        "id": "LbyXE7I1olp8"
      }
    },
    {
      "cell_type": "markdown",
      "source": [
        "## ***4. Data Vizualization, Storytelling & Experimenting with charts : Understand the relationships between variables***"
      ],
      "metadata": {
        "id": "GF8Ens_Soomf"
      }
    },
    {
      "cell_type": "markdown",
      "source": [
        "#### Chart - 1"
      ],
      "metadata": {
        "id": "0wOQAZs5pc--"
      }
    },
    {
      "cell_type": "code",
      "source": [
        "# Chart - 1 visualization code\n",
        "from pylab import *\n",
        "import warnings\n",
        "warnings.filterwarnings('ignore') #ignore the warnings\n",
        "\n",
        "f, ax= plt.subplots(figsize=(8,6))\n",
        "subplot(2,3,1)\n",
        "sns.distplot(airbnb_df['price'])\n",
        "\n",
        "subplot(2,3,2)\n",
        "sns.distplot(airbnb_df['minimum_nights'])\n",
        "\n",
        "subplot(2,3,3)\n",
        "sns.distplot(airbnb_df['number_of_reviews'])\n",
        "\n",
        "subplot(2,3,4)\n",
        "sns.distplot(airbnb_df['reviews_per_month'])\n",
        "\n",
        "subplot(2,3,5)\n",
        "sns.distplot(airbnb_df['calculated_host_listings_count'])\n",
        "\n",
        "subplot(2,3,6)\n",
        "sns.distplot(airbnb_df['availability_365'])\n",
        "\n",
        "plt.tight_layout() # avoid overlap of plotsplt.draw()"
      ],
      "metadata": {
        "id": "7v_ESjsspbW7"
      },
      "execution_count": null,
      "outputs": []
    },
    {
      "cell_type": "markdown",
      "source": [
        "##### 1. Why did you pick the specific chart?"
      ],
      "metadata": {
        "id": "K5QZ13OEpz2H"
      }
    },
    {
      "cell_type": "markdown",
      "source": [
        "The distplot is chosen to explore the distribution of all the columns values as it provides a clear overview of the distribution range and density of listings.\n",
        "\n"
      ],
      "metadata": {
        "id": "XESiWehPqBRc"
      }
    },
    {
      "cell_type": "markdown",
      "source": [
        "##### 2. What is/are the insight(s) found from the chart?"
      ],
      "metadata": {
        "id": "lQ7QKXXCp7Bj"
      }
    },
    {
      "cell_type": "markdown",
      "source": [
        "With the above plots , we can see that price is normally ditributed with some outlier which can be ignored as prices of different listings may cost more high or more less than all others compared to the mean values of price.\n",
        "Similarly all other columns are normally distributed and only the availability_365 column data is skewed and has lot of outliers which are to be treated.\n",
        "\n"
      ],
      "metadata": {
        "id": "C_j1G7yiqdRP"
      }
    },
    {
      "cell_type": "markdown",
      "source": [
        "##### 3. Will the gained insights help creating a positive business impact?\n",
        "Are there any insights that lead to negative growth? Justify with specific reason."
      ],
      "metadata": {
        "id": "448CDAPjqfQr"
      }
    },
    {
      "cell_type": "markdown",
      "source": [
        "The insights can help understand the price distribution of listings and identify pricing strategies to cater to different budget preferences.\n",
        "\n",
        "\n",
        "\n"
      ],
      "metadata": {
        "id": "3cspy4FjqxJW"
      }
    },
    {
      "cell_type": "markdown",
      "source": [
        "#### Chart - 2"
      ],
      "metadata": {
        "id": "KSlN3yHqYklG"
      }
    },
    {
      "cell_type": "code",
      "source": [
        "# Chart - 2 visualization code\n",
        "#visualizing properties based on neighbourhood\n",
        "title = 'Properties per Neighbourhood Group'\n",
        "sns.countplot(x='neighbourhood_group',data=airbnb_df)\n",
        "plt.title(title)\n",
        "plt.show()"
      ],
      "metadata": {
        "id": "R4YgtaqtYklH"
      },
      "execution_count": null,
      "outputs": []
    },
    {
      "cell_type": "markdown",
      "source": [
        "##### 1. Why did you pick the specific chart?"
      ],
      "metadata": {
        "id": "t6dVpIINYklI"
      }
    },
    {
      "cell_type": "markdown",
      "source": [
        "The Countplot is best suited for visualizing the count of distribution/properties over the neighbourhood groups."
      ],
      "metadata": {
        "id": "5aaW0BYyYklI"
      }
    },
    {
      "cell_type": "markdown",
      "source": [
        "##### 2. What is/are the insight(s) found from the chart?"
      ],
      "metadata": {
        "id": "ijmpgYnKYklI"
      }
    },
    {
      "cell_type": "markdown",
      "source": [
        "From the above we can justify that the location Manhattan has more number of listing/properties followed by Brooklyn and so on.\n",
        "\n",
        "\n",
        "\n"
      ],
      "metadata": {
        "id": "PSx9atu2YklI"
      }
    },
    {
      "cell_type": "markdown",
      "source": [
        "##### 3. Will the gained insights help creating a positive business impact?\n",
        "Are there any insights that lead to negative growth? Justify with specific reason."
      ],
      "metadata": {
        "id": "-JiQyfWJYklI"
      }
    },
    {
      "cell_type": "markdown",
      "source": [
        "Yes, from above we can bring up the insight that the customer looking for a booking can easily book a room/Hotel at Manhattan followed by Brooklyn, and similarly if a host wants to invest money on a property, they can invest on Manhattan/Brooklyn region, since that will be more of intrest and a valued investment."
      ],
      "metadata": {
        "id": "BcBbebzrYklV"
      }
    },
    {
      "cell_type": "markdown",
      "source": [
        "#### Chart - 3"
      ],
      "metadata": {
        "id": "EM7whBJCYoAo"
      }
    },
    {
      "cell_type": "code",
      "source": [
        "# Chart - 3 visualization code\n",
        "plt.figure(figsize=(13,7))\n",
        "title = 'Median Price per Neighbourhood Group'\n",
        "result = airbnb_df.groupby([\"neighbourhood_group\"])['price'].aggregate(np.median).reset_index().sort_values('price')\n",
        "sns.barplot(x='neighbourhood_group', y=\"price\", data=airbnb_df, order=result['neighbourhood_group'])\n",
        "plt.title(title)\n",
        "plt.show()"
      ],
      "metadata": {
        "id": "bfYpisgSg-4h"
      },
      "execution_count": null,
      "outputs": []
    },
    {
      "cell_type": "markdown",
      "source": [
        "##### 1. Why did you pick the specific chart?"
      ],
      "metadata": {
        "id": "fge-S5ZAYoAp"
      }
    },
    {
      "cell_type": "markdown",
      "source": [
        "The box plot helps compare the distribution of prices across different locations/neighborhood_groups, which are arranged in ascending order and grouped per locations inorder to achieve better visbility.\n",
        "\n"
      ],
      "metadata": {
        "id": "5dBItgRVYoAp"
      }
    },
    {
      "cell_type": "markdown",
      "source": [
        "##### 2. What is/are the insight(s) found from the chart?"
      ],
      "metadata": {
        "id": "85gYPyotYoAp"
      }
    },
    {
      "cell_type": "markdown",
      "source": [
        "From the above we can justify that hotels/properties or rooms in Manhattan costs/charges more commpared to other locations, where as Bronx location costs the least commpared to all other locations."
      ],
      "metadata": {
        "id": "4jstXR6OYoAp"
      }
    },
    {
      "cell_type": "markdown",
      "source": [
        "##### 3. Will the gained insights help creating a positive business impact?\n",
        "Are there any insights that lead to negative growth? Justify with specific reason."
      ],
      "metadata": {
        "id": "RoGjAbkUYoAp"
      }
    },
    {
      "cell_type": "markdown",
      "source": [
        "Yes, from the above plot we can say that, any customer who wants to book a hotel/room at the best and average price will be \"Saten Island\", and the highest ranged hotels/rooms are located in Manhattan which might have more facilities or luxries compared to others."
      ],
      "metadata": {
        "id": "zfJ8IqMcYoAp"
      }
    },
    {
      "cell_type": "markdown",
      "source": [
        "#### Chart - 4"
      ],
      "metadata": {
        "id": "4Of9eVA-YrdM"
      }
    },
    {
      "cell_type": "code",
      "source": [
        "# Chart - 4 visualization code\n",
        "#The pie chart shows that Airbnb Listings in Newyork are near Manhattan, and Brooklyn has the highest share of hotels.\n",
        "plt.figure(figsize=(13,7))\n",
        "plt.title(\"Neighbourhood Group\")\n",
        "plt.pie(airbnb_df.neighbourhood_group.value_counts(),labels=airbnb_df.neighbourhood_group.value_counts().index,startangle=180,autopct='%1.1f%%')\n",
        "plt.show()"
      ],
      "metadata": {
        "id": "irlUoxc8YrdO"
      },
      "execution_count": null,
      "outputs": []
    },
    {
      "cell_type": "markdown",
      "source": [
        "##### 1. Why did you pick the specific chart?"
      ],
      "metadata": {
        "id": "iky9q4vBYrdO"
      }
    },
    {
      "cell_type": "markdown",
      "source": [
        "The pie chart is selected to display the percentage distribution of listings across different neighbourhood groups\n",
        "\n"
      ],
      "metadata": {
        "id": "aJRCwT6DYrdO"
      }
    },
    {
      "cell_type": "markdown",
      "source": [
        "##### 2. What is/are the insight(s) found from the chart?"
      ],
      "metadata": {
        "id": "F6T5p64dYrdO"
      }
    },
    {
      "cell_type": "markdown",
      "source": [
        "The pie chart presents the proportion of listings in each neighbourhood group, providing a quick overview of their relative sizes.\n",
        "\n"
      ],
      "metadata": {
        "id": "Xx8WAJvtYrdO"
      }
    },
    {
      "cell_type": "markdown",
      "source": [
        "##### 3. Will the gained insights help creating a positive business impact?\n",
        "Are there any insights that lead to negative growth? Justify with specific reason."
      ],
      "metadata": {
        "id": "y-Ehk30pYrdP"
      }
    },
    {
      "cell_type": "markdown",
      "source": [
        "This insight can help prioritize marketing efforts and resource allocation for each neighbourhood group.\n",
        "\n"
      ],
      "metadata": {
        "id": "jLNxxz7MYrdP"
      }
    },
    {
      "cell_type": "markdown",
      "source": [
        "#### Chart - 5"
      ],
      "metadata": {
        "id": "bamQiAODYuh1"
      }
    },
    {
      "cell_type": "code",
      "source": [
        "# Chart - 5 visualization code\n",
        "plt.figure(figsize=(13,7))\n",
        "plt.title(\"Neighbourhood Group vs. Availability Room\")\n",
        "sns.boxplot(data=airbnb_df, x='neighbourhood_group',y='availability_365',palette=\"dark\")\n",
        "plt.show()"
      ],
      "metadata": {
        "id": "TIJwrbroYuh3"
      },
      "execution_count": null,
      "outputs": []
    },
    {
      "cell_type": "markdown",
      "source": [
        "##### 1. Why did you pick the specific chart?"
      ],
      "metadata": {
        "id": "QHF8YVU7Yuh3"
      }
    },
    {
      "cell_type": "markdown",
      "source": [
        "The Boxplot is more suited to identify the outliers in a column, boxplot is picked for the above case to have a better visuals of 'neighbourhood_group' vs 'availability_365' which helps us to have a clear visuals of availbility of hotels/rooms."
      ],
      "metadata": {
        "id": "dcxuIMRPYuh3"
      }
    },
    {
      "cell_type": "markdown",
      "source": [
        "##### 2. What is/are the insight(s) found from the chart?"
      ],
      "metadata": {
        "id": "GwzvFGzlYuh3"
      }
    },
    {
      "cell_type": "markdown",
      "source": [
        "The insight from the above plot is that the hotels/rooms in Brooklyn are available between 0 to less than 200 days, rooms in Manhattan location are available for less than 250 days and so on."
      ],
      "metadata": {
        "id": "uyqkiB8YYuh3"
      }
    },
    {
      "cell_type": "markdown",
      "source": [
        "##### 3. Will the gained insights help creating a positive business impact?\n",
        "Are there any insights that lead to negative growth? Justify with specific reason."
      ],
      "metadata": {
        "id": "qYpmQ266Yuh3"
      }
    },
    {
      "cell_type": "markdown",
      "source": [
        "Yes, the positive feedback that we can bring from the above analysis is that, the customer can look for a room in a particular location based on the availability of room over a year , so that the person can decide the vacation on a season."
      ],
      "metadata": {
        "id": "_WtzZ_hCYuh4"
      }
    },
    {
      "cell_type": "markdown",
      "source": [
        "#### Chart - 6"
      ],
      "metadata": {
        "id": "OH-pJp9IphqM"
      }
    },
    {
      "cell_type": "code",
      "source": [
        "# Chart - 6 visualization code\n",
        "#visualizing properties based on room type\n",
        "title = 'Properties per Room Type'\n",
        "sns.countplot(x='room_type',data=airbnb_df)\n",
        "plt.title(title)\n",
        "plt.show()"
      ],
      "metadata": {
        "id": "kuRf4wtuphqN"
      },
      "execution_count": null,
      "outputs": []
    },
    {
      "cell_type": "markdown",
      "source": [
        "##### 1. Why did you pick the specific chart?"
      ],
      "metadata": {
        "id": "bbFf2-_FphqN"
      }
    },
    {
      "cell_type": "markdown",
      "source": [
        "The count plot is best suited to give the count of number of rooms Based on the type."
      ],
      "metadata": {
        "id": "loh7H2nzphqN"
      }
    },
    {
      "cell_type": "markdown",
      "source": [
        "##### 2. What is/are the insight(s) found from the chart?"
      ],
      "metadata": {
        "id": "_ouA3fa0phqN"
      }
    },
    {
      "cell_type": "markdown",
      "source": [
        "From the above plot we can say that the count of \"Entire home/apt\" room type is around 25000 and the count of 'Private room' is around 22000 and te count of 'Shared room' is around 1000 whic is very least in the entire NYC."
      ],
      "metadata": {
        "id": "VECbqPI7phqN"
      }
    },
    {
      "cell_type": "markdown",
      "source": [
        "##### 3. Will the gained insights help creating a positive business impact?\n",
        "Are there any insights that lead to negative growth? Justify with specific reason."
      ],
      "metadata": {
        "id": "Seke61FWphqN"
      }
    },
    {
      "cell_type": "markdown",
      "source": [
        "From the above we can bring up the positive insight that if anyone wants to invest on the room/property in the NYC, then the good idea would be to invest on 'Entire home/apt' or 'Private room'."
      ],
      "metadata": {
        "id": "DW4_bGpfphqN"
      }
    },
    {
      "cell_type": "markdown",
      "source": [
        "#### Chart - 7"
      ],
      "metadata": {
        "id": "PIIx-8_IphqN"
      }
    },
    {
      "cell_type": "code",
      "source": [
        "# Chart - 7 visualization code\n",
        "#Visualizing co-relation of columns\n",
        "plt.figure(figsize=(10,6))\n",
        "title = 'Correlation matrix of numerical variables'\n",
        "sns.heatmap(airbnb_df.corr(), square=True, cmap='coolwarm',annot=True)\n",
        "plt.title(title)\n",
        "plt.show()"
      ],
      "metadata": {
        "id": "lqAIGUfyphqO"
      },
      "execution_count": null,
      "outputs": []
    },
    {
      "cell_type": "markdown",
      "source": [
        "##### 1. Why did you pick the specific chart?"
      ],
      "metadata": {
        "id": "t27r6nlMphqO"
      }
    },
    {
      "cell_type": "markdown",
      "source": [
        "A heatmap is selected to visualize the correlation matrix between numerical variables in the dataset.\n",
        "\n"
      ],
      "metadata": {
        "id": "iv6ro40sphqO"
      }
    },
    {
      "cell_type": "markdown",
      "source": [
        "##### 2. What is/are the insight(s) found from the chart?"
      ],
      "metadata": {
        "id": "r2jJGEOYphqO"
      }
    },
    {
      "cell_type": "markdown",
      "source": [
        "The heatmap provides a comprehensive view of the relationships between various numerical variables, highlighting strong correlations.\n",
        "\n"
      ],
      "metadata": {
        "id": "Po6ZPi4hphqO"
      }
    },
    {
      "cell_type": "markdown",
      "source": [
        "##### 3. Will the gained insights help creating a positive business impact?\n",
        "Are there any insights that lead to negative growth? Justify with specific reason."
      ],
      "metadata": {
        "id": "b0JNsNcRphqO"
      }
    },
    {
      "cell_type": "markdown",
      "source": [
        "This insight can identify significant correlations that can influence decision-making, such as understanding factors affecting price or reviews.\n",
        "\n"
      ],
      "metadata": {
        "id": "xvSq8iUTphqO"
      }
    },
    {
      "cell_type": "markdown",
      "source": [
        "#### Chart - 8"
      ],
      "metadata": {
        "id": "BZR9WyysphqO"
      }
    },
    {
      "cell_type": "code",
      "source": [
        "# Chart - 8 visualization code\n",
        "title = 'count of room types on neighbourhood groups'\n",
        "sns.catplot(x='room_type', kind=\"count\", hue=\"neighbourhood_group\", data=airbnb_df);\n",
        "plt.title(title)\n",
        "plt.show()"
      ],
      "metadata": {
        "id": "TdPTWpAVphqO"
      },
      "execution_count": null,
      "outputs": []
    },
    {
      "cell_type": "markdown",
      "source": [
        "##### 1. Why did you pick the specific chart?"
      ],
      "metadata": {
        "id": "jj7wYXLtphqO"
      }
    },
    {
      "cell_type": "markdown",
      "source": [
        "A grouped bar plot is used to compare the prices of different room types across various neighbourhood groups.\n",
        "\n"
      ],
      "metadata": {
        "id": "Ob8u6rCTphqO"
      }
    },
    {
      "cell_type": "markdown",
      "source": [
        "##### 2. What is/are the insight(s) found from the chart?"
      ],
      "metadata": {
        "id": "eZrbJ2SmphqO"
      }
    },
    {
      "cell_type": "markdown",
      "source": [
        "The plot allows for a quick comparison of prices for each room type within different neighbourhood groups that \"Entire home/apt\" room type at Manhattan is more followed by Brooklyn, Queens, Bronx, State Island.\n",
        "In the similar way we can have the count of rooms types for other locations as well.\n",
        "\n"
      ],
      "metadata": {
        "id": "mZtgC_hjphqO"
      }
    },
    {
      "cell_type": "markdown",
      "source": [
        "##### 3. Will the gained insights help creating a positive business impact?\n",
        "Are there any insights that lead to negative growth? Justify with specific reason."
      ],
      "metadata": {
        "id": "rFu4xreNphqO"
      }
    },
    {
      "cell_type": "markdown",
      "source": [
        "This insight can inform marketing and pricing strategies for specific room types based on location preferences.\n",
        "\n"
      ],
      "metadata": {
        "id": "ey_0qi68phqO"
      }
    },
    {
      "cell_type": "markdown",
      "source": [
        "#### Chart - 9"
      ],
      "metadata": {
        "id": "YJ55k-q6phqO"
      }
    },
    {
      "cell_type": "code",
      "source": [
        "# Chart - 9 visualization code\n",
        "filtered_data=airbnb_df.loc[(airbnb_df['price']<200)& airbnb_df['reviews_per_month']<30]\n",
        "f,ax=plt.subplots(figsize=(8,6))\n",
        "plt.subplot(2,1,1)\n",
        "sns.scatterplot(x='reviews_per_month',y='price',data=filtered_data)\n",
        "plt.title('reviews for the properties under 200$')\n",
        "\n",
        "filtered_data2=airbnb_df.loc[(airbnb_df['price']>200)]\n",
        "plt.subplot(2,1,2)\n",
        "sns.scatterplot(x='reviews_per_month',y='price',data=filtered_data2)\n",
        "plt.title('reviews for the properties over 200$')\n",
        "plt.tight_layout()\n",
        "plt.show()"
      ],
      "metadata": {
        "id": "B2aS4O1ophqO"
      },
      "execution_count": null,
      "outputs": []
    },
    {
      "cell_type": "markdown",
      "source": [
        "##### 1. Why did you pick the specific chart?"
      ],
      "metadata": {
        "id": "gCFgpxoyphqP"
      }
    },
    {
      "cell_type": "markdown",
      "source": [
        "From the Scatter plot analysis, we can see the number of reviews given for the hotels over 200$ and less than 200$."
      ],
      "metadata": {
        "id": "TVxDimi2phqP"
      }
    },
    {
      "cell_type": "markdown",
      "source": [
        "##### 2. What is/are the insight(s) found from the chart?"
      ],
      "metadata": {
        "id": "OVtJsKN_phqQ"
      }
    },
    {
      "cell_type": "markdown",
      "source": [
        "From the above plots we can have a clear visualization of the reviews given for hotel/rooms under 200$ and above it.\n"
      ],
      "metadata": {
        "id": "ngGi97qjphqQ"
      }
    },
    {
      "cell_type": "markdown",
      "source": [
        "##### 3. Will the gained insights help creating a positive business impact?\n",
        "Are there any insights that lead to negative growth? Justify with specific reason."
      ],
      "metadata": {
        "id": "lssrdh5qphqQ"
      }
    },
    {
      "cell_type": "markdown",
      "source": [
        "Yes, from the above analysis, we can say that the reviews are good for the hotel/room under 200$ and are more affordable for many of the customers."
      ],
      "metadata": {
        "id": "tBpY5ekJphqQ"
      }
    },
    {
      "cell_type": "markdown",
      "source": [
        "#### Chart - 10"
      ],
      "metadata": {
        "id": "U2RJ9gkRphqQ"
      }
    },
    {
      "cell_type": "code",
      "source": [
        "# Chart - 10 visualization code\n",
        "#Visualizing on where the hotels are located and based on the neighbourhood\n",
        "title = 'Neighbourhood Group Location'\n",
        "plt.figure(figsize=(8,4))\n",
        "sns.scatterplot(x='longitude',y='latitude',hue='neighbourhood_group',data=airbnb_df).set_title(title)\n",
        "plt.show()\n",
        "\n",
        "title = 'Room type location per Neighbourhood Group'\n",
        "plt.figure(figsize=(8,4))\n",
        "sns.scatterplot(x='longitude',y='latitude',hue='room_type',data=airbnb_df).set_title(title)\n",
        "plt.show()"
      ],
      "metadata": {
        "id": "GM7a4YP4phqQ"
      },
      "execution_count": null,
      "outputs": []
    },
    {
      "cell_type": "markdown",
      "source": [
        "##### 1. Why did you pick the specific chart?"
      ],
      "metadata": {
        "id": "1M8mcRywphqQ"
      }
    },
    {
      "cell_type": "markdown",
      "source": [
        "The Scatter plot is best for visualizing the distribution of hotel/rooms over different locations as well as we have used the scatter plot to view the distribution of room types over different locations"
      ],
      "metadata": {
        "id": "8agQvks0phqQ"
      }
    },
    {
      "cell_type": "markdown",
      "source": [
        "##### 2. What is/are the insight(s) found from the chart?"
      ],
      "metadata": {
        "id": "tgIPom80phqQ"
      }
    },
    {
      "cell_type": "markdown",
      "source": [
        "From the above chart we can say that the hotels/rooms located in 'State island' are located between -74.2 to -74.1 longitude and lattitude of 40.5 to 40.6 range and so on for  other neighbourhood locations as well."
      ],
      "metadata": {
        "id": "Qp13pnNzphqQ"
      }
    },
    {
      "cell_type": "markdown",
      "source": [
        "##### 3. Will the gained insights help creating a positive business impact?\n",
        "Are there any insights that lead to negative growth? Justify with specific reason."
      ],
      "metadata": {
        "id": "JMzcOPDDphqR"
      }
    },
    {
      "cell_type": "markdown",
      "source": [
        "From the above plot we can justify that the rooms/hotels closely located in Manhattan region where as slight farly located at Queens region"
      ],
      "metadata": {
        "id": "R4Ka1PC2phqR"
      }
    },
    {
      "cell_type": "markdown",
      "source": [
        "#### Chart - 11"
      ],
      "metadata": {
        "id": "x-EpHcCOp1ci"
      }
    },
    {
      "cell_type": "code",
      "source": [
        "# Chart - 11 visualization code\n",
        "x= 'neighbourhood_group'\n",
        "y= 'price'\n",
        "title = 'Price per Neighbourhood Group'\n",
        "\n",
        "f, ax = plt.subplots(figsize=(8, 6))\n",
        "sns.scatterplot(x=x, y=y, data=airbnb_df)\n",
        "plt.title(title)\n",
        "plt.show()"
      ],
      "metadata": {
        "id": "mAQTIvtqp1cj"
      },
      "execution_count": null,
      "outputs": []
    },
    {
      "cell_type": "markdown",
      "source": [
        "##### 1. Why did you pick the specific chart?"
      ],
      "metadata": {
        "id": "X_VqEhTip1ck"
      }
    },
    {
      "cell_type": "markdown",
      "source": [
        "Gives us the relationship between price and neighbourhood_group"
      ],
      "metadata": {
        "id": "-vsMzt_np1ck"
      }
    },
    {
      "cell_type": "markdown",
      "source": [
        "##### 2. What is/are the insight(s) found from the chart?"
      ],
      "metadata": {
        "id": "8zGJKyg5p1ck"
      }
    },
    {
      "cell_type": "markdown",
      "source": [
        "The above analysis shows us how price varies with location."
      ],
      "metadata": {
        "id": "ZYdMsrqVp1ck"
      }
    },
    {
      "cell_type": "markdown",
      "source": [
        "##### 3. Will the gained insights help creating a positive business impact?\n",
        "Are there any insights that lead to negative growth? Justify with specific reason."
      ],
      "metadata": {
        "id": "PVzmfK_Ep1ck"
      }
    },
    {
      "cell_type": "markdown",
      "source": [
        "yes, less or average priced hotels/rooms are likely to be booked more."
      ],
      "metadata": {
        "id": "druuKYZpp1ck"
      }
    },
    {
      "cell_type": "markdown",
      "source": [
        "#### Chart - 12"
      ],
      "metadata": {
        "id": "n3dbpmDWp1ck"
      }
    },
    {
      "cell_type": "code",
      "source": [
        "# Chart - 12 visualization code\n",
        "sns.boxplot(y='price', data=airbnb_df)"
      ],
      "metadata": {
        "id": "bwevp1tKp1ck"
      },
      "execution_count": null,
      "outputs": []
    },
    {
      "cell_type": "code",
      "source": [
        "f, ax=plt.subplots(4,10)\n",
        "subplot(1,2,1)\n",
        "sns.boxplot(y = airbnb_df['number_of_reviews'])\n",
        "\n",
        "subplot(1,2,2)\n",
        "sns.boxplot(y = airbnb_df['reviews_per_month'])\n",
        "\n",
        "plt.tight_layout()"
      ],
      "metadata": {
        "id": "X6bl2xiItyvm"
      },
      "execution_count": null,
      "outputs": []
    },
    {
      "cell_type": "code",
      "source": [
        "f, ax=plt.subplots(6,6)\n",
        "subplot(1,3,1)\n",
        "sns.boxplot(airbnb_df['minimum_nights'])\n",
        "plt.title('minimum_nights')\n",
        "\n",
        "subplot(1,3,2)\n",
        "sns.boxplot(airbnb_df['calculated_host_listings_count'])\n",
        "plt.title('host_listings_count')\n",
        "\n",
        "subplot(1,3,3)\n",
        "sns.boxplot(airbnb_df['availability_365'])\n",
        "plt.title('availability_365')\n",
        "plt.tight_layout()"
      ],
      "metadata": {
        "id": "DA1uAjFHty_W"
      },
      "execution_count": null,
      "outputs": []
    },
    {
      "cell_type": "markdown",
      "source": [
        "##### 1. Why did you pick the specific chart?"
      ],
      "metadata": {
        "id": "ylSl6qgtp1ck"
      }
    },
    {
      "cell_type": "markdown",
      "source": [
        "Boxplot is used to see the ouliers on our dataset.\n"
      ],
      "metadata": {
        "id": "m2xqNkiQp1ck"
      }
    },
    {
      "cell_type": "markdown",
      "source": [
        "##### 2. What is/are the insight(s) found from the chart?"
      ],
      "metadata": {
        "id": "ZWILFDl5p1ck"
      }
    },
    {
      "cell_type": "markdown",
      "source": [
        "Though we have outliers in our price column, we cannot eliminate them or replace them , since the price varies with the location, facilities provoided, room types etc.,"
      ],
      "metadata": {
        "id": "x-lUsV2mp1ck"
      }
    },
    {
      "cell_type": "markdown",
      "source": [
        "##### 3. Will the gained insights help creating a positive business impact?\n",
        "Are there any insights that lead to negative growth? Justify with specific reason."
      ],
      "metadata": {
        "id": "M7G43BXep1ck"
      }
    },
    {
      "cell_type": "markdown",
      "source": [
        "The outliers in the column 'minimum_nights' are very high, as we can see that its been ranging from 0-1200 which is not a good sign.\n",
        "on an average we can that no customer will ever book a hotel/room for more than a month or so."
      ],
      "metadata": {
        "id": "5wwDJXsLp1cl"
      }
    },
    {
      "cell_type": "markdown",
      "source": [
        "#### Chart - 13"
      ],
      "metadata": {
        "id": "Ag9LCva-p1cl"
      }
    },
    {
      "cell_type": "code",
      "source": [
        "# Chart - 13 visualization code"
      ],
      "metadata": {
        "id": "EUfxeq9-p1cl"
      },
      "execution_count": null,
      "outputs": []
    },
    {
      "cell_type": "markdown",
      "source": [
        "##### 1. Why did you pick the specific chart?"
      ],
      "metadata": {
        "id": "E6MkPsBcp1cl"
      }
    },
    {
      "cell_type": "markdown",
      "source": [
        "Answer Here."
      ],
      "metadata": {
        "id": "V22bRsFWp1cl"
      }
    },
    {
      "cell_type": "markdown",
      "source": [
        "##### 2. What is/are the insight(s) found from the chart?"
      ],
      "metadata": {
        "id": "2cELzS2fp1cl"
      }
    },
    {
      "cell_type": "markdown",
      "source": [
        "Answer Here"
      ],
      "metadata": {
        "id": "ozQPc2_Ip1cl"
      }
    },
    {
      "cell_type": "markdown",
      "source": [
        "##### 3. Will the gained insights help creating a positive business impact?\n",
        "Are there any insights that lead to negative growth? Justify with specific reason."
      ],
      "metadata": {
        "id": "3MPXvC8up1cl"
      }
    },
    {
      "cell_type": "markdown",
      "source": [
        "Answer Here"
      ],
      "metadata": {
        "id": "GL8l1tdLp1cl"
      }
    },
    {
      "cell_type": "markdown",
      "source": [
        "#### Chart - 14 - Correlation Heatmap"
      ],
      "metadata": {
        "id": "NC_X3p0fY2L0"
      }
    },
    {
      "cell_type": "code",
      "source": [
        "# Correlation Heatmap visualization code"
      ],
      "metadata": {
        "id": "xyC9zolEZNRQ"
      },
      "execution_count": null,
      "outputs": []
    },
    {
      "cell_type": "markdown",
      "source": [
        "##### 1. Why did you pick the specific chart?"
      ],
      "metadata": {
        "id": "UV0SzAkaZNRQ"
      }
    },
    {
      "cell_type": "markdown",
      "source": [
        "Answer Here."
      ],
      "metadata": {
        "id": "DVPuT8LYZNRQ"
      }
    },
    {
      "cell_type": "markdown",
      "source": [
        "##### 2. What is/are the insight(s) found from the chart?"
      ],
      "metadata": {
        "id": "YPEH6qLeZNRQ"
      }
    },
    {
      "cell_type": "markdown",
      "source": [
        "Answer Here"
      ],
      "metadata": {
        "id": "bfSqtnDqZNRR"
      }
    },
    {
      "cell_type": "markdown",
      "source": [
        "#### Chart - 15 - Pair Plot"
      ],
      "metadata": {
        "id": "q29F0dvdveiT"
      }
    },
    {
      "cell_type": "code",
      "source": [
        "# Pair Plot visualization code"
      ],
      "metadata": {
        "id": "o58-TEIhveiU"
      },
      "execution_count": null,
      "outputs": []
    },
    {
      "cell_type": "markdown",
      "source": [
        "##### 1. Why did you pick the specific chart?"
      ],
      "metadata": {
        "id": "EXh0U9oCveiU"
      }
    },
    {
      "cell_type": "markdown",
      "source": [
        "Answer Here."
      ],
      "metadata": {
        "id": "eMmPjTByveiU"
      }
    },
    {
      "cell_type": "markdown",
      "source": [
        "##### 2. What is/are the insight(s) found from the chart?"
      ],
      "metadata": {
        "id": "22aHeOlLveiV"
      }
    },
    {
      "cell_type": "markdown",
      "source": [
        "Answer Here"
      ],
      "metadata": {
        "id": "uPQ8RGwHveiV"
      }
    },
    {
      "cell_type": "markdown",
      "source": [
        "## **5. Solution to Business Objective**"
      ],
      "metadata": {
        "id": "JcMwzZxoAimU"
      }
    },
    {
      "cell_type": "markdown",
      "source": [
        "#### What do you suggest the client to achieve Business Objective ?\n",
        "Explain Briefly."
      ],
      "metadata": {
        "id": "8G2x9gOozGDZ"
      }
    },
    {
      "cell_type": "markdown",
      "source": [
        " I would suggest the following recommendations to help the client achieve their business objectives:\n",
        "\n",
        "\n",
        "1. **Pricing Strategy Optimization:** Analyze the relationship between price and the number of reviews to identify the optimal pricing range that attracts more bookings while maintaining customer satisfaction. Consider implementing dynamic pricing based on demand and seasonal trends to maximize revenue.\n",
        "2. **Room Type Focus:** Focus marketing efforts on the most popular room type, 'entire home/apartment,' which has the highest number of listings. This can help target a broader customer base and improve occupancy rates.\n",
        "3. **Neighbourhood Group Targeting**: Use the insights from the pie chart and grouped visualizations to prioritize marketing efforts and resource allocation for different neighbourhood groups. Concentrate on areas with higher demand and potential for positive business impact.\n",
        "4. **Guest Satisfaction Improvement:** Utilize the correlation heatmap to identify factors influencing guest satisfaction, such as the number of reviews and other features. Address any negative correlations and work towards improving customer experiences.\n",
        "5. **Room Type and Neighbourhood Group Customization:** Consider offering customized packages or promotions based on the preferences of each neighbourhood group and their preferred room types. Tailored offerings can enhance guest experiences and loyalty.\n",
        "\n",
        "\n",
        "\n",
        "\n",
        "\n"
      ],
      "metadata": {
        "id": "pASKb0qOza21"
      }
    },
    {
      "cell_type": "markdown",
      "source": [
        "# **Conclusion**"
      ],
      "metadata": {
        "id": "gCX9965dhzqZ"
      }
    },
    {
      "cell_type": "markdown",
      "source": [
        "In the Airbnb Dataset we have found out that there are many columns which help us to analyse and explore on each significant column presented. we found that our dataset has 48895 columns, there were some columns which were irrelevent so we dropped it first, then with the remaining columns we analysed each and every detail of the dataset with the help of describe function Through this Airbnb dataset we found out that it is a very convenient for customers to book a room in more affordable price, with different type of rooms. We detected the outliers which are above and below of the interquartile range in the price column, which can be ignored since prize varies with the different location and room types. Overall, we discovered a very good number of interesting relationships between features and explained each step of the process."
      ],
      "metadata": {
        "id": "Fjb1IsQkh3yE"
      }
    },
    {
      "cell_type": "markdown",
      "source": [
        "### ***Hurrah! You have successfully completed your EDA Capstone Project !!!***"
      ],
      "metadata": {
        "id": "gIfDvo9L0UH2"
      }
    }
  ]
}